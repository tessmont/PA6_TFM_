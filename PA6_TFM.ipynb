{
 "cells": [
  {
   "cell_type": "markdown",
   "id": "eecbc827",
   "metadata": {},
   "source": [
    "## PA6 CS150-01 Writing Functions"
   ]
  },
  {
   "cell_type": "markdown",
   "id": "9739f3fa",
   "metadata": {},
   "source": [
    "## Tess Montgomery"
   ]
  },
  {
   "cell_type": "markdown",
   "id": "5d2a4f3e",
   "metadata": {},
   "source": [
    "## Task 1: Triangle"
   ]
  },
  {
   "cell_type": "code",
   "execution_count": 6,
   "id": "847a5c98",
   "metadata": {},
   "outputs": [],
   "source": [
    "def get_sum(*args):\n",
    "    return sum(args)"
   ]
  },
  {
   "cell_type": "code",
   "execution_count": 7,
   "id": "b2f94fce",
   "metadata": {},
   "outputs": [
    {
     "data": {
      "text/plain": [
       "3"
      ]
     },
     "execution_count": 7,
     "metadata": {},
     "output_type": "execute_result"
    }
   ],
   "source": [
    "get_sum(1,1,1)"
   ]
  },
  {
   "cell_type": "code",
   "execution_count": 21,
   "id": "db483a06",
   "metadata": {},
   "outputs": [
    {
     "name": "stdout",
     "output_type": "stream",
     "text": [
      "Enter the length of side A: 125\n",
      "Enter the length of side B: 125\n",
      "Enter the length of side C: 125\n"
     ]
    }
   ],
   "source": [
    "import math\n",
    "math.sqrt\n",
    "def get_sum(*args):\n",
    "    return sum(args)\n",
    "sideA=int(input(\"Enter the length of side A: \"))\n",
    "sideB=int(input(\"Enter the length of side B: \"))\n",
    "sideC=int(input(\"Enter the length of side C: \"))\n",
    "calcPerimeter=(sideA+sideB+sideC)"
   ]
  },
  {
   "cell_type": "code",
   "execution_count": 22,
   "id": "7ac15bb0",
   "metadata": {},
   "outputs": [
    {
     "name": "stdout",
     "output_type": "stream",
     "text": [
      "The perimeter of the triangle is 375 linear units.\n"
     ]
    }
   ],
   "source": [
    "print(\"The perimeter of the triangle is\", calcPerimeter, \"linear units.\")"
   ]
  },
  {
   "cell_type": "code",
   "execution_count": 23,
   "id": "bb046729",
   "metadata": {},
   "outputs": [],
   "source": [
    "sideAp=(calcPerimeter/2-sideA)\n",
    "sideBp=(calcPerimeter/2-sideB)\n",
    "sideCp=(calcPerimeter/2-sideC)\n",
    "semiper=(calcPerimeter/2*sideAp*sideBp*sideCp)\n",
    "calcArea=math.sqrt(semiper)"
   ]
  },
  {
   "cell_type": "code",
   "execution_count": 24,
   "id": "ae0f941e",
   "metadata": {},
   "outputs": [
    {
     "name": "stdout",
     "output_type": "stream",
     "text": [
      "The area of the triangle is approximately 6765.823467065927 square units.\n"
     ]
    }
   ],
   "source": [
    "print(\"The area of the triangle is approximately\", calcArea, \"square units.\")"
   ]
  },
  {
   "cell_type": "markdown",
   "id": "14c72133",
   "metadata": {},
   "source": [
    "## Task 2: Guess the Number"
   ]
  },
  {
   "cell_type": "code",
   "execution_count": 4,
   "id": "edf14251",
   "metadata": {},
   "outputs": [
    {
     "name": "stdout",
     "output_type": "stream",
     "text": [
      "The number 172\n",
      "Enter your guess: 100\n",
      "Too low! Guess again\n",
      "Enter your guess: 200\n",
      "Too high! Guess again\n",
      "Enter your guess: 172\n",
      "Correct!\n"
     ]
    }
   ],
   "source": [
    "import random\n",
    "number=random.randint(1, 1000)\n",
    "evaluateGuess=None\n",
    "time=0\n",
    "print(\"The number\", number)\n",
    "      \n",
    "while evaluateGuess!= number:\n",
    "    evaluateGuess=int(input(\"Enter your guess: \"))\n",
    "    if evaluateGuess==number:\n",
    "        print(\"Correct!\")\n",
    "    elif evaluateGuess<number:\n",
    "        print(\"Too low! Guess again\")\n",
    "    else:\n",
    "        print(\"Too high! Guess again\")\n",
    "    time+=1"
   ]
  },
  {
   "cell_type": "markdown",
   "id": "3c4b2c4b",
   "metadata": {},
   "source": [
    "## Task 3: Temperature"
   ]
  },
  {
   "cell_type": "code",
   "execution_count": 103,
   "id": "73fea7fe",
   "metadata": {},
   "outputs": [
    {
     "name": "stdout",
     "output_type": "stream",
     "text": [
      "The mean temperature for the past 2 days is 78.5\n",
      "The mean temperature for the past 4 days is 77.5\n",
      "The mean temperature for the past 7 days is 78.14285714285714\n"
     ]
    }
   ],
   "source": [
    "def meanTemp(*args):\n",
    "    return sum(args)/len(args)\n",
    "meanTemp(80,77,76,77,78,80,79,81)\n",
    "print(\"The mean temperature for the past 2 days is\", meanTemp(80,77))\n",
    "print(\"The mean temperature for the past 4 days is\", meanTemp(80,77,76,77))\n",
    "print(\"The mean temperature for the past 7 days is\", meanTemp(80,77,76,77,78,80,79))"
   ]
  },
  {
   "cell_type": "markdown",
   "id": "cd33a616",
   "metadata": {},
   "source": []
  }
 ],
 "metadata": {
  "kernelspec": {
   "display_name": "Python 3 (ipykernel)",
   "language": "python",
   "name": "python3"
  },
  "language_info": {
   "codemirror_mode": {
    "name": "ipython",
    "version": 3
   },
   "file_extension": ".py",
   "mimetype": "text/x-python",
   "name": "python",
   "nbconvert_exporter": "python",
   "pygments_lexer": "ipython3",
   "version": "3.11.5"
  }
 },
 "nbformat": 4,
 "nbformat_minor": 5
}
